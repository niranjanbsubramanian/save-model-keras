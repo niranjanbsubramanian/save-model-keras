{
  "nbformat": 4,
  "nbformat_minor": 0,
  "metadata": {
    "colab": {
      "name": "save_model.ipynb",
      "provenance": [],
      "collapsed_sections": [],
      "authorship_tag": "ABX9TyNHCBrC1s0/teG1nrVnUqaR",
      "include_colab_link": true
    },
    "kernelspec": {
      "name": "python3",
      "display_name": "Python 3"
    },
    "language_info": {
      "name": "python"
    },
    "accelerator": "GPU"
  },
  "cells": [
    {
      "cell_type": "markdown",
      "metadata": {
        "id": "view-in-github",
        "colab_type": "text"
      },
      "source": [
        "<a href=\"https://colab.research.google.com/github/niranjanbsubramanian/save-model-keras/blob/main/save%20model%20in%20keras.ipynb\" target=\"_parent\"><img src=\"https://colab.research.google.com/assets/colab-badge.svg\" alt=\"Open In Colab\"/></a>"
      ]
    },
    {
      "cell_type": "code",
      "metadata": {
        "colab": {
          "base_uri": "https://localhost:8080/"
        },
        "id": "jNvF-7afXBWn",
        "outputId": "5807a37d-372a-485b-8cbf-58d4d4b04426"
      },
      "source": [
        "import keras\n",
        "from keras.models import Sequential\n",
        "from keras.layers import Dense, Dropout, Flatten\n",
        "from keras.layers import Conv2D, MaxPooling2D\n",
        "from keras import backend as K\n",
        "from keras.datasets import fashion_mnist\n",
        "from keras.utils import np_utils\n",
        " \n",
        "batch_size = 128\n",
        "num_classes = 10\n",
        "epochs = 50\n",
        " \n",
        "# input image dimensions\n",
        "img_rows, img_cols = 28, 28\n",
        " \n",
        "# the data, split between train and test sets\n",
        "(x_train, y_train), (x_test, y_test) = fashion_mnist.load_data()\n",
        " \n",
        " \n",
        "if K.image_data_format() == 'channels_first':\n",
        "    x_train = x_train.reshape(x_train.shape[0], 1, img_rows, img_cols)\n",
        "    x_test = x_test.reshape(x_test.shape[0], 1, img_rows, img_cols)\n",
        "    input_shape = (1, img_rows, img_cols)\n",
        "else:\n",
        "    x_train = x_train.reshape(x_train.shape[0], img_rows, img_cols, 1)\n",
        "    x_test = x_test.reshape(x_test.shape[0], img_rows, img_cols, 1)\n",
        "    input_shape = (img_rows, img_cols, 1)\n",
        " \n",
        "x_train = x_train.astype('float32')\n",
        "x_test = x_test.astype('float32')\n",
        "x_train /= 255\n",
        "x_test /= 255\n",
        "print('x_train shape:', x_train.shape)\n",
        "print(x_train.shape[0], 'train samples')\n",
        "print(x_test.shape[0], 'test samples')\n",
        " \n",
        "# convert class vectors to binary class matrices\n",
        "y_train = np_utils.to_categorical(y_train, num_classes)\n",
        "y_test = np_utils.to_categorical(y_test, num_classes)\n",
        " \n",
        "#Building our CNN\n",
        "model = Sequential()\n",
        "model.add(Conv2D(32, kernel_size=(3, 3),\n",
        "                 activation='relu',\n",
        "                 input_shape=input_shape))\n",
        "model.add(Conv2D(64, (3, 3), activation='relu'))\n",
        "model.add(MaxPooling2D(pool_size=(2, 2)))\n",
        "model.add(Dropout(0.25))\n",
        "model.add(Flatten())\n",
        "model.add(Dense(128, activation='relu'))\n",
        "model.add(Dropout(0.5))\n",
        "model.add(Dense(num_classes, activation='softmax'))\n",
        " \n",
        "#compile the model\n",
        "model.compile(loss=keras.losses.categorical_crossentropy,\n",
        "              optimizer=keras.optimizers.Adadelta(),\n",
        "              metrics=['accuracy'])"
      ],
      "execution_count": 11,
      "outputs": [
        {
          "output_type": "stream",
          "text": [
            "x_train shape: (60000, 28, 28, 1)\n",
            "60000 train samples\n",
            "10000 test samples\n"
          ],
          "name": "stdout"
        }
      ]
    },
    {
      "cell_type": "code",
      "metadata": {
        "colab": {
          "base_uri": "https://localhost:8080/"
        },
        "id": "5hSTQs5QcNVv",
        "outputId": "3ed1bc84-1873-4334-b300-62f689bb2837"
      },
      "source": [
        "history = model.fit(x_train, y_train,\n",
        "          batch_size=batch_size,\n",
        "          epochs=epochs,\n",
        "          verbose=1,\n",
        "          validation_split=0.2,\n",
        "          )\n",
        " \n",
        "score = model.evaluate(x_test, y_test, verbose=1)\n",
        "print('Test loss:', score[0])\n",
        "print('Test accuracy:', score[1])"
      ],
      "execution_count": 12,
      "outputs": [
        {
          "output_type": "stream",
          "text": [
            "Epoch 1/50\n",
            "375/375 [==============================] - 4s 9ms/step - loss: 2.2843 - accuracy: 0.1115 - val_loss: 2.2287 - val_accuracy: 0.2013\n",
            "Epoch 2/50\n",
            "375/375 [==============================] - 3s 8ms/step - loss: 2.2258 - accuracy: 0.1721 - val_loss: 2.1580 - val_accuracy: 0.3706\n",
            "Epoch 3/50\n",
            "375/375 [==============================] - 3s 8ms/step - loss: 2.1575 - accuracy: 0.2557 - val_loss: 2.0730 - val_accuracy: 0.4545\n",
            "Epoch 4/50\n",
            "375/375 [==============================] - 3s 9ms/step - loss: 2.0786 - accuracy: 0.3399 - val_loss: 1.9675 - val_accuracy: 0.5261\n",
            "Epoch 5/50\n",
            "375/375 [==============================] - 3s 9ms/step - loss: 1.9763 - accuracy: 0.4051 - val_loss: 1.8390 - val_accuracy: 0.5569\n",
            "Epoch 6/50\n",
            "375/375 [==============================] - 3s 8ms/step - loss: 1.8601 - accuracy: 0.4421 - val_loss: 1.6968 - val_accuracy: 0.5731\n",
            "Epoch 7/50\n",
            "375/375 [==============================] - 3s 8ms/step - loss: 1.7347 - accuracy: 0.4641 - val_loss: 1.5541 - val_accuracy: 0.5906\n",
            "Epoch 8/50\n",
            "375/375 [==============================] - 3s 9ms/step - loss: 1.6213 - accuracy: 0.4811 - val_loss: 1.4237 - val_accuracy: 0.6063\n",
            "Epoch 9/50\n",
            "375/375 [==============================] - 3s 9ms/step - loss: 1.5198 - accuracy: 0.4976 - val_loss: 1.3115 - val_accuracy: 0.6202\n",
            "Epoch 10/50\n",
            "375/375 [==============================] - 3s 8ms/step - loss: 1.4354 - accuracy: 0.5128 - val_loss: 1.2217 - val_accuracy: 0.6342\n",
            "Epoch 11/50\n",
            "375/375 [==============================] - 3s 9ms/step - loss: 1.3593 - accuracy: 0.5322 - val_loss: 1.1494 - val_accuracy: 0.6436\n",
            "Epoch 12/50\n",
            "375/375 [==============================] - 3s 8ms/step - loss: 1.2973 - accuracy: 0.5478 - val_loss: 1.0930 - val_accuracy: 0.6475\n",
            "Epoch 13/50\n",
            "375/375 [==============================] - 3s 8ms/step - loss: 1.2622 - accuracy: 0.5551 - val_loss: 1.0471 - val_accuracy: 0.6616\n",
            "Epoch 14/50\n",
            "375/375 [==============================] - 3s 8ms/step - loss: 1.2162 - accuracy: 0.5658 - val_loss: 1.0092 - val_accuracy: 0.6700\n",
            "Epoch 15/50\n",
            "375/375 [==============================] - 3s 9ms/step - loss: 1.1863 - accuracy: 0.5757 - val_loss: 0.9771 - val_accuracy: 0.6772\n",
            "Epoch 16/50\n",
            "375/375 [==============================] - 3s 9ms/step - loss: 1.1607 - accuracy: 0.5832 - val_loss: 0.9490 - val_accuracy: 0.6856\n",
            "Epoch 17/50\n",
            "375/375 [==============================] - 3s 8ms/step - loss: 1.1230 - accuracy: 0.5977 - val_loss: 0.9244 - val_accuracy: 0.6929\n",
            "Epoch 18/50\n",
            "375/375 [==============================] - 3s 9ms/step - loss: 1.1016 - accuracy: 0.6019 - val_loss: 0.9036 - val_accuracy: 0.6961\n",
            "Epoch 19/50\n",
            "375/375 [==============================] - 3s 8ms/step - loss: 1.0768 - accuracy: 0.6178 - val_loss: 0.8841 - val_accuracy: 0.7028\n",
            "Epoch 20/50\n",
            "375/375 [==============================] - 3s 9ms/step - loss: 1.0572 - accuracy: 0.6192 - val_loss: 0.8672 - val_accuracy: 0.7075\n",
            "Epoch 21/50\n",
            "375/375 [==============================] - 3s 8ms/step - loss: 1.0456 - accuracy: 0.6239 - val_loss: 0.8516 - val_accuracy: 0.7115\n",
            "Epoch 22/50\n",
            "375/375 [==============================] - 3s 9ms/step - loss: 1.0260 - accuracy: 0.6334 - val_loss: 0.8373 - val_accuracy: 0.7168\n",
            "Epoch 23/50\n",
            "375/375 [==============================] - 3s 8ms/step - loss: 1.0126 - accuracy: 0.6398 - val_loss: 0.8238 - val_accuracy: 0.7192\n",
            "Epoch 24/50\n",
            "375/375 [==============================] - 3s 9ms/step - loss: 0.9977 - accuracy: 0.6444 - val_loss: 0.8116 - val_accuracy: 0.7236\n",
            "Epoch 25/50\n",
            "375/375 [==============================] - 3s 9ms/step - loss: 0.9878 - accuracy: 0.6504 - val_loss: 0.8000 - val_accuracy: 0.7293\n",
            "Epoch 26/50\n",
            "375/375 [==============================] - 3s 8ms/step - loss: 0.9661 - accuracy: 0.6600 - val_loss: 0.7890 - val_accuracy: 0.7325\n",
            "Epoch 27/50\n",
            "375/375 [==============================] - 3s 9ms/step - loss: 0.9502 - accuracy: 0.6630 - val_loss: 0.7785 - val_accuracy: 0.7347\n",
            "Epoch 28/50\n",
            "375/375 [==============================] - 3s 8ms/step - loss: 0.9369 - accuracy: 0.6681 - val_loss: 0.7679 - val_accuracy: 0.7377\n",
            "Epoch 29/50\n",
            "375/375 [==============================] - 3s 8ms/step - loss: 0.9392 - accuracy: 0.6714 - val_loss: 0.7587 - val_accuracy: 0.7402\n",
            "Epoch 30/50\n",
            "375/375 [==============================] - 3s 9ms/step - loss: 0.9334 - accuracy: 0.6716 - val_loss: 0.7506 - val_accuracy: 0.7425\n",
            "Epoch 31/50\n",
            "375/375 [==============================] - 3s 8ms/step - loss: 0.9124 - accuracy: 0.6776 - val_loss: 0.7420 - val_accuracy: 0.7462\n",
            "Epoch 32/50\n",
            "375/375 [==============================] - 3s 9ms/step - loss: 0.9023 - accuracy: 0.6855 - val_loss: 0.7343 - val_accuracy: 0.7480\n",
            "Epoch 33/50\n",
            "375/375 [==============================] - 3s 9ms/step - loss: 0.8951 - accuracy: 0.6818 - val_loss: 0.7267 - val_accuracy: 0.7517\n",
            "Epoch 34/50\n",
            "375/375 [==============================] - 3s 8ms/step - loss: 0.8862 - accuracy: 0.6918 - val_loss: 0.7189 - val_accuracy: 0.7540\n",
            "Epoch 35/50\n",
            "375/375 [==============================] - 3s 8ms/step - loss: 0.8751 - accuracy: 0.6923 - val_loss: 0.7120 - val_accuracy: 0.7544\n",
            "Epoch 36/50\n",
            "375/375 [==============================] - 3s 9ms/step - loss: 0.8653 - accuracy: 0.6990 - val_loss: 0.7049 - val_accuracy: 0.7577\n",
            "Epoch 37/50\n",
            "375/375 [==============================] - 3s 8ms/step - loss: 0.8639 - accuracy: 0.6973 - val_loss: 0.6995 - val_accuracy: 0.7582\n",
            "Epoch 38/50\n",
            "375/375 [==============================] - 3s 9ms/step - loss: 0.8553 - accuracy: 0.6991 - val_loss: 0.6938 - val_accuracy: 0.7612\n",
            "Epoch 39/50\n",
            "375/375 [==============================] - 3s 9ms/step - loss: 0.8455 - accuracy: 0.7042 - val_loss: 0.6877 - val_accuracy: 0.7642\n",
            "Epoch 40/50\n",
            "375/375 [==============================] - 3s 8ms/step - loss: 0.8337 - accuracy: 0.7076 - val_loss: 0.6819 - val_accuracy: 0.7659\n",
            "Epoch 41/50\n",
            "375/375 [==============================] - 3s 9ms/step - loss: 0.8364 - accuracy: 0.7068 - val_loss: 0.6768 - val_accuracy: 0.7684\n",
            "Epoch 42/50\n",
            "375/375 [==============================] - 3s 8ms/step - loss: 0.8250 - accuracy: 0.7124 - val_loss: 0.6719 - val_accuracy: 0.7713\n",
            "Epoch 43/50\n",
            "375/375 [==============================] - 3s 8ms/step - loss: 0.8165 - accuracy: 0.7149 - val_loss: 0.6664 - val_accuracy: 0.7732\n",
            "Epoch 44/50\n",
            "375/375 [==============================] - 3s 9ms/step - loss: 0.8192 - accuracy: 0.7164 - val_loss: 0.6620 - val_accuracy: 0.7753\n",
            "Epoch 45/50\n",
            "375/375 [==============================] - 3s 8ms/step - loss: 0.8060 - accuracy: 0.7161 - val_loss: 0.6577 - val_accuracy: 0.7752\n",
            "Epoch 46/50\n",
            "375/375 [==============================] - 3s 8ms/step - loss: 0.8079 - accuracy: 0.7137 - val_loss: 0.6536 - val_accuracy: 0.7754\n",
            "Epoch 47/50\n",
            "375/375 [==============================] - 3s 8ms/step - loss: 0.8013 - accuracy: 0.7206 - val_loss: 0.6496 - val_accuracy: 0.7778\n",
            "Epoch 48/50\n",
            "375/375 [==============================] - 3s 9ms/step - loss: 0.7860 - accuracy: 0.7233 - val_loss: 0.6460 - val_accuracy: 0.7771\n",
            "Epoch 49/50\n",
            "375/375 [==============================] - 3s 8ms/step - loss: 0.7795 - accuracy: 0.7261 - val_loss: 0.6415 - val_accuracy: 0.7797\n",
            "Epoch 50/50\n",
            "375/375 [==============================] - 3s 8ms/step - loss: 0.7745 - accuracy: 0.7281 - val_loss: 0.6378 - val_accuracy: 0.7804\n",
            "313/313 [==============================] - 1s 3ms/step - loss: 0.6589 - accuracy: 0.7707\n",
            "Test loss: 0.6588946580886841\n",
            "Test accuracy: 0.7706999778747559\n"
          ],
          "name": "stdout"
        }
      ]
    },
    {
      "cell_type": "code",
      "metadata": {
        "id": "dJAXHvWxerli"
      },
      "source": [
        "model.save('Fashion_Mnist_CNN.h5')"
      ],
      "execution_count": 13,
      "outputs": []
    },
    {
      "cell_type": "code",
      "metadata": {
        "id": "CrCmQ58ukdeA"
      },
      "source": [
        "from keras.models import load_model\n",
        "restored_model = load_model('/content/Fashion_Mnist_CNN.h5')\n",
        "#restored_model.evaluate(x_test, y_test, verbose=1)"
      ],
      "execution_count": 14,
      "outputs": []
    },
    {
      "cell_type": "code",
      "metadata": {
        "colab": {
          "base_uri": "https://localhost:8080/"
        },
        "id": "2SjSG2VxNx3q",
        "outputId": "5c3f33a6-df2f-41fa-cafa-bef4e9918a37"
      },
      "source": [
        "import numpy as np\n",
        "index = np.random.randint(0, len(x_test)) # randomly choose a sample from the test set\n",
        "sample = np.array([x_test[index]])\n",
        "prediction = restored_model.predict(sample)\n",
        "print('Sample Number:',index,'\\n','\\nPredicted Class:',np.argmax([prediction[0]]), 'Actual Class:',np.argmax(y_test[index]))"
      ],
      "execution_count": 15,
      "outputs": [
        {
          "output_type": "stream",
          "text": [
            "Sample Number: 9990 \n",
            " \n",
            "Predicted Class: 5 Actual Class: 5\n"
          ],
          "name": "stdout"
        }
      ]
    },
    {
      "cell_type": "markdown",
      "metadata": {
        "id": "8tlOvFXCsk63"
      },
      "source": [
        "### Saving a model to .json"
      ]
    },
    {
      "cell_type": "code",
      "metadata": {
        "id": "XO_QkKwmkros"
      },
      "source": [
        "json_model = model.to_json()\n",
        "with open('model.json','w') as json_file:\n",
        "  json_file.write(json_model)"
      ],
      "execution_count": 16,
      "outputs": []
    },
    {
      "cell_type": "code",
      "metadata": {
        "id": "dS6eSsoblc34"
      },
      "source": [
        "#saving model weights\n",
        "model.save_weights('weights.h5')"
      ],
      "execution_count": 17,
      "outputs": []
    },
    {
      "cell_type": "markdown",
      "metadata": {
        "id": "cXlLT6xa5O4n"
      },
      "source": [
        "### Load Json Model"
      ]
    },
    {
      "cell_type": "code",
      "metadata": {
        "colab": {
          "base_uri": "https://localhost:8080/"
        },
        "id": "TqnzmEuDiPlR",
        "outputId": "87e37317-3c74-42e2-825b-0561d1e85481"
      },
      "source": [
        "from keras.models import model_from_json\n",
        "\n",
        "with open('/content/model.json', 'r') as json_file:\n",
        "  json_string = json_file.read()\n",
        "json_file.close()\n",
        "json_model = model_from_json(json_string)\n",
        "json_model.summary()"
      ],
      "execution_count": 23,
      "outputs": [
        {
          "output_type": "stream",
          "text": [
            "Model: \"sequential_1\"\n",
            "_________________________________________________________________\n",
            "Layer (type)                 Output Shape              Param #   \n",
            "=================================================================\n",
            "conv2d_2 (Conv2D)            (None, 26, 26, 32)        320       \n",
            "_________________________________________________________________\n",
            "conv2d_3 (Conv2D)            (None, 24, 24, 64)        18496     \n",
            "_________________________________________________________________\n",
            "max_pooling2d_1 (MaxPooling2 (None, 12, 12, 64)        0         \n",
            "_________________________________________________________________\n",
            "dropout_2 (Dropout)          (None, 12, 12, 64)        0         \n",
            "_________________________________________________________________\n",
            "flatten_1 (Flatten)          (None, 9216)              0         \n",
            "_________________________________________________________________\n",
            "dense_2 (Dense)              (None, 128)               1179776   \n",
            "_________________________________________________________________\n",
            "dropout_3 (Dropout)          (None, 128)               0         \n",
            "_________________________________________________________________\n",
            "dense_3 (Dense)              (None, 10)                1290      \n",
            "=================================================================\n",
            "Total params: 1,199,882\n",
            "Trainable params: 1,199,882\n",
            "Non-trainable params: 0\n",
            "_________________________________________________________________\n"
          ],
          "name": "stdout"
        }
      ]
    },
    {
      "cell_type": "markdown",
      "metadata": {
        "id": "gDEmToOlzG0l"
      },
      "source": [
        "#### Load weights to json model"
      ]
    },
    {
      "cell_type": "code",
      "metadata": {
        "id": "Hs55tP3tos8f"
      },
      "source": [
        "json_model.load_weights('/content/weights.h5')"
      ],
      "execution_count": 24,
      "outputs": []
    },
    {
      "cell_type": "code",
      "metadata": {
        "id": "3kGKB-6ozNLF"
      },
      "source": [
        "json_model.compile(loss=keras.losses.categorical_crossentropy,\n",
        "              optimizer=keras.optimizers.Adadelta(),\n",
        "              metrics=['accuracy'])\n",
        "#json_model.evaluate(x_test, y_test, verbose=1)"
      ],
      "execution_count": 25,
      "outputs": []
    },
    {
      "cell_type": "markdown",
      "metadata": {
        "id": "DWryKKN2kWkd"
      },
      "source": [
        "### JSON Model Prediction"
      ]
    },
    {
      "cell_type": "code",
      "metadata": {
        "colab": {
          "base_uri": "https://localhost:8080/"
        },
        "id": "fmR8outzkWFz",
        "outputId": "207598d1-a143-42fa-ed0a-3b120ac817e4"
      },
      "source": [
        "import numpy as np\n",
        "index = np.random.randint(0, len(x_test)) # Get a random index\n",
        "sample = np.array([x_test[index]]) # select a random sample\n",
        "prediction = json_model.predict(sample) # predict the sample\n",
        "print('Sample Number:',index,'\\n','\\nPredicted Class:',np.argmax([prediction[0]]), 'Actual Class:',np.argmax(y_test[index]))"
      ],
      "execution_count": 26,
      "outputs": [
        {
          "output_type": "stream",
          "text": [
            "Sample Number: 4703 \n",
            " \n",
            "Predicted Class: 5 Actual Class: 5\n"
          ],
          "name": "stdout"
        }
      ]
    },
    {
      "cell_type": "markdown",
      "metadata": {
        "id": "6ih_BG560TFJ"
      },
      "source": [
        "### Save and load the model in YAML format"
      ]
    },
    {
      "cell_type": "code",
      "metadata": {
        "id": "HWxOXGyKzVxI"
      },
      "source": [
        "yaml_model = model.to_yaml()\n",
        "with open('model.yaml','w') as yaml_file:\n",
        "  yaml_file.write(yaml_model)"
      ],
      "execution_count": 27,
      "outputs": []
    },
    {
      "cell_type": "code",
      "metadata": {
        "colab": {
          "base_uri": "https://localhost:8080/"
        },
        "id": "vC9ZKxLo0jBt",
        "outputId": "49eb6b1d-df50-4dd6-d8e9-e8cd0d586c78"
      },
      "source": [
        "from keras.models import model_from_yaml\n",
        "\n",
        "# model reconstruction from yaml\n",
        "with open('/content/model.yaml','r') as yaml_file:\n",
        "  yaml_string = yaml_file.read()\n",
        "yaml_model = model_from_yaml(yaml_string)\n",
        "yaml_model.summary()"
      ],
      "execution_count": 28,
      "outputs": [
        {
          "output_type": "stream",
          "text": [
            "Model: \"sequential_1\"\n",
            "_________________________________________________________________\n",
            "Layer (type)                 Output Shape              Param #   \n",
            "=================================================================\n",
            "conv2d_2 (Conv2D)            (None, 26, 26, 32)        320       \n",
            "_________________________________________________________________\n",
            "conv2d_3 (Conv2D)            (None, 24, 24, 64)        18496     \n",
            "_________________________________________________________________\n",
            "max_pooling2d_1 (MaxPooling2 (None, 12, 12, 64)        0         \n",
            "_________________________________________________________________\n",
            "dropout_2 (Dropout)          (None, 12, 12, 64)        0         \n",
            "_________________________________________________________________\n",
            "flatten_1 (Flatten)          (None, 9216)              0         \n",
            "_________________________________________________________________\n",
            "dense_2 (Dense)              (None, 128)               1179776   \n",
            "_________________________________________________________________\n",
            "dropout_3 (Dropout)          (None, 128)               0         \n",
            "_________________________________________________________________\n",
            "dense_3 (Dense)              (None, 10)                1290      \n",
            "=================================================================\n",
            "Total params: 1,199,882\n",
            "Trainable params: 1,199,882\n",
            "Non-trainable params: 0\n",
            "_________________________________________________________________\n"
          ],
          "name": "stdout"
        }
      ]
    },
    {
      "cell_type": "code",
      "metadata": {
        "id": "lyvkC4HT2euv"
      },
      "source": [
        "yaml_model.load_weights('/content/weights.h5')"
      ],
      "execution_count": 29,
      "outputs": []
    },
    {
      "cell_type": "code",
      "metadata": {
        "id": "ryE8BbK62lDq"
      },
      "source": [
        "yaml_model.compile(loss=keras.losses.categorical_crossentropy,\n",
        "              optimizer=keras.optimizers.Adadelta(),\n",
        "              metrics=['accuracy'])\n",
        "#yaml_model.evaluate(x_test, y_test, verbose=1)"
      ],
      "execution_count": 30,
      "outputs": []
    },
    {
      "cell_type": "markdown",
      "metadata": {
        "id": "oNb9RJEln-ns"
      },
      "source": [
        "### YAML Model Prediction"
      ]
    },
    {
      "cell_type": "code",
      "metadata": {
        "colab": {
          "base_uri": "https://localhost:8080/"
        },
        "id": "-E0zGCI16fX6",
        "outputId": "a76eacfa-2f04-422d-a10a-db229479ca3b"
      },
      "source": [
        "import numpy as np\n",
        "index = np.random.randint(0, len(x_test)-1)\n",
        "sample = np.array([x_test[index]])\n",
        "prediction = yaml_model.predict(sample)\n",
        "print('Sample Number:',index,'\\n','\\nPredicted Class:',np.argmax([prediction[0]]), 'Actual Class:',np.argmax(y_test[index]))"
      ],
      "execution_count": 31,
      "outputs": [
        {
          "output_type": "stream",
          "text": [
            "Sample Number: 5408 \n",
            " \n",
            "Predicted Class: 9 Actual Class: 9\n"
          ],
          "name": "stdout"
        }
      ]
    },
    {
      "cell_type": "markdown",
      "metadata": {
        "id": "KZq_J77fxlpR"
      },
      "source": [
        "### Model CheckPoint Callback"
      ]
    },
    {
      "cell_type": "code",
      "metadata": {
        "colab": {
          "base_uri": "https://localhost:8080/"
        },
        "id": "rr4saGt9xlN8",
        "outputId": "22f34e00-ccdb-4f7e-f118-508963e41042"
      },
      "source": [
        "# import the callback\n",
        "from keras.callbacks import ModelCheckpoint\n",
        "\n",
        "# create the callback\n",
        "filepath = '/content/weight/weights-{epoch:02d}-{val_accuracy:.2f}.hdf5'\n",
        "model_ckpt = ModelCheckpoint(monitor='val_loss', save_best_only=True, verbose=1, mode='auto',filepath=filepath)\n",
        "\n",
        "# pass the callback to the fit() method\n",
        "history = model.fit(x_train, y_train,\n",
        "          batch_size=batch_size,\n",
        "          epochs=epochs,\n",
        "          verbose=1,\n",
        "          validation_split=0.2,\n",
        "          callbacks=model_ckpt)"
      ],
      "execution_count": 32,
      "outputs": [
        {
          "output_type": "stream",
          "text": [
            "Epoch 1/50\n",
            "375/375 [==============================] - 4s 9ms/step - loss: 0.7767 - accuracy: 0.7259 - val_loss: 0.6343 - val_accuracy: 0.7809\n",
            "\n",
            "Epoch 00001: val_loss improved from inf to 0.63431, saving model to /content/weight/weights-01-0.78.hdf5\n",
            "Epoch 2/50\n",
            "375/375 [==============================] - 3s 9ms/step - loss: 0.7706 - accuracy: 0.7304 - val_loss: 0.6311 - val_accuracy: 0.7816\n",
            "\n",
            "Epoch 00002: val_loss improved from 0.63431 to 0.63106, saving model to /content/weight/weights-02-0.78.hdf5\n",
            "Epoch 3/50\n",
            "375/375 [==============================] - 3s 9ms/step - loss: 0.7640 - accuracy: 0.7326 - val_loss: 0.6267 - val_accuracy: 0.7818\n",
            "\n",
            "Epoch 00003: val_loss improved from 0.63106 to 0.62669, saving model to /content/weight/weights-03-0.78.hdf5\n",
            "Epoch 4/50\n",
            "375/375 [==============================] - 3s 8ms/step - loss: 0.7595 - accuracy: 0.7328 - val_loss: 0.6239 - val_accuracy: 0.7830\n",
            "\n",
            "Epoch 00004: val_loss improved from 0.62669 to 0.62387, saving model to /content/weight/weights-04-0.78.hdf5\n",
            "Epoch 5/50\n",
            "375/375 [==============================] - 3s 9ms/step - loss: 0.7585 - accuracy: 0.7335 - val_loss: 0.6210 - val_accuracy: 0.7840\n",
            "\n",
            "Epoch 00005: val_loss improved from 0.62387 to 0.62102, saving model to /content/weight/weights-05-0.78.hdf5\n",
            "Epoch 6/50\n",
            "375/375 [==============================] - 3s 8ms/step - loss: 0.7555 - accuracy: 0.7344 - val_loss: 0.6181 - val_accuracy: 0.7857\n",
            "\n",
            "Epoch 00006: val_loss improved from 0.62102 to 0.61814, saving model to /content/weight/weights-06-0.79.hdf5\n",
            "Epoch 7/50\n",
            "375/375 [==============================] - 3s 9ms/step - loss: 0.7475 - accuracy: 0.7370 - val_loss: 0.6149 - val_accuracy: 0.7865\n",
            "\n",
            "Epoch 00007: val_loss improved from 0.61814 to 0.61488, saving model to /content/weight/weights-07-0.79.hdf5\n",
            "Epoch 8/50\n",
            "375/375 [==============================] - 3s 9ms/step - loss: 0.7488 - accuracy: 0.7376 - val_loss: 0.6122 - val_accuracy: 0.7872\n",
            "\n",
            "Epoch 00008: val_loss improved from 0.61488 to 0.61223, saving model to /content/weight/weights-08-0.79.hdf5\n",
            "Epoch 9/50\n",
            "375/375 [==============================] - 3s 9ms/step - loss: 0.7407 - accuracy: 0.7378 - val_loss: 0.6094 - val_accuracy: 0.7880\n",
            "\n",
            "Epoch 00009: val_loss improved from 0.61223 to 0.60938, saving model to /content/weight/weights-09-0.79.hdf5\n",
            "Epoch 10/50\n",
            "375/375 [==============================] - 3s 9ms/step - loss: 0.7416 - accuracy: 0.7374 - val_loss: 0.6072 - val_accuracy: 0.7887\n",
            "\n",
            "Epoch 00010: val_loss improved from 0.60938 to 0.60717, saving model to /content/weight/weights-10-0.79.hdf5\n",
            "Epoch 11/50\n",
            "375/375 [==============================] - 3s 8ms/step - loss: 0.7351 - accuracy: 0.7412 - val_loss: 0.6038 - val_accuracy: 0.7899\n",
            "\n",
            "Epoch 00011: val_loss improved from 0.60717 to 0.60381, saving model to /content/weight/weights-11-0.79.hdf5\n",
            "Epoch 12/50\n",
            "375/375 [==============================] - 3s 8ms/step - loss: 0.7321 - accuracy: 0.7416 - val_loss: 0.6016 - val_accuracy: 0.7912\n",
            "\n",
            "Epoch 00012: val_loss improved from 0.60381 to 0.60155, saving model to /content/weight/weights-12-0.79.hdf5\n",
            "Epoch 13/50\n",
            "375/375 [==============================] - 3s 8ms/step - loss: 0.7258 - accuracy: 0.7436 - val_loss: 0.5986 - val_accuracy: 0.7919\n",
            "\n",
            "Epoch 00013: val_loss improved from 0.60155 to 0.59859, saving model to /content/weight/weights-13-0.79.hdf5\n",
            "Epoch 14/50\n",
            "375/375 [==============================] - 3s 9ms/step - loss: 0.7239 - accuracy: 0.7439 - val_loss: 0.5960 - val_accuracy: 0.7912\n",
            "\n",
            "Epoch 00014: val_loss improved from 0.59859 to 0.59597, saving model to /content/weight/weights-14-0.79.hdf5\n",
            "Epoch 15/50\n",
            "375/375 [==============================] - 3s 9ms/step - loss: 0.7255 - accuracy: 0.7445 - val_loss: 0.5944 - val_accuracy: 0.7925\n",
            "\n",
            "Epoch 00015: val_loss improved from 0.59597 to 0.59438, saving model to /content/weight/weights-15-0.79.hdf5\n",
            "Epoch 16/50\n",
            "375/375 [==============================] - 3s 8ms/step - loss: 0.7234 - accuracy: 0.7452 - val_loss: 0.5922 - val_accuracy: 0.7918\n",
            "\n",
            "Epoch 00016: val_loss improved from 0.59438 to 0.59220, saving model to /content/weight/weights-16-0.79.hdf5\n",
            "Epoch 17/50\n",
            "375/375 [==============================] - 3s 8ms/step - loss: 0.7181 - accuracy: 0.7441 - val_loss: 0.5896 - val_accuracy: 0.7932\n",
            "\n",
            "Epoch 00017: val_loss improved from 0.59220 to 0.58964, saving model to /content/weight/weights-17-0.79.hdf5\n",
            "Epoch 18/50\n",
            "375/375 [==============================] - 3s 8ms/step - loss: 0.7141 - accuracy: 0.7458 - val_loss: 0.5877 - val_accuracy: 0.7937\n",
            "\n",
            "Epoch 00018: val_loss improved from 0.58964 to 0.58766, saving model to /content/weight/weights-18-0.79.hdf5\n",
            "Epoch 19/50\n",
            "375/375 [==============================] - 3s 9ms/step - loss: 0.7084 - accuracy: 0.7503 - val_loss: 0.5849 - val_accuracy: 0.7952\n",
            "\n",
            "Epoch 00019: val_loss improved from 0.58766 to 0.58495, saving model to /content/weight/weights-19-0.80.hdf5\n",
            "Epoch 20/50\n",
            "375/375 [==============================] - 3s 8ms/step - loss: 0.7109 - accuracy: 0.7483 - val_loss: 0.5829 - val_accuracy: 0.7960\n",
            "\n",
            "Epoch 00020: val_loss improved from 0.58495 to 0.58291, saving model to /content/weight/weights-20-0.80.hdf5\n",
            "Epoch 21/50\n",
            "375/375 [==============================] - 3s 8ms/step - loss: 0.7058 - accuracy: 0.7500 - val_loss: 0.5811 - val_accuracy: 0.7962\n",
            "\n",
            "Epoch 00021: val_loss improved from 0.58291 to 0.58110, saving model to /content/weight/weights-21-0.80.hdf5\n",
            "Epoch 22/50\n",
            "375/375 [==============================] - 3s 9ms/step - loss: 0.7029 - accuracy: 0.7518 - val_loss: 0.5789 - val_accuracy: 0.7960\n",
            "\n",
            "Epoch 00022: val_loss improved from 0.58110 to 0.57894, saving model to /content/weight/weights-22-0.80.hdf5\n",
            "Epoch 23/50\n",
            "375/375 [==============================] - 3s 8ms/step - loss: 0.6992 - accuracy: 0.7514 - val_loss: 0.5765 - val_accuracy: 0.7977\n",
            "\n",
            "Epoch 00023: val_loss improved from 0.57894 to 0.57651, saving model to /content/weight/weights-23-0.80.hdf5\n",
            "Epoch 24/50\n",
            "375/375 [==============================] - 4s 9ms/step - loss: 0.6937 - accuracy: 0.7532 - val_loss: 0.5749 - val_accuracy: 0.7976\n",
            "\n",
            "Epoch 00024: val_loss improved from 0.57651 to 0.57490, saving model to /content/weight/weights-24-0.80.hdf5\n",
            "Epoch 25/50\n",
            "375/375 [==============================] - 3s 8ms/step - loss: 0.6946 - accuracy: 0.7533 - val_loss: 0.5734 - val_accuracy: 0.7987\n",
            "\n",
            "Epoch 00025: val_loss improved from 0.57490 to 0.57343, saving model to /content/weight/weights-25-0.80.hdf5\n",
            "Epoch 26/50\n",
            "375/375 [==============================] - 3s 8ms/step - loss: 0.6923 - accuracy: 0.7542 - val_loss: 0.5716 - val_accuracy: 0.7995\n",
            "\n",
            "Epoch 00026: val_loss improved from 0.57343 to 0.57163, saving model to /content/weight/weights-26-0.80.hdf5\n",
            "Epoch 27/50\n",
            "375/375 [==============================] - 3s 8ms/step - loss: 0.6906 - accuracy: 0.7566 - val_loss: 0.5698 - val_accuracy: 0.7986\n",
            "\n",
            "Epoch 00027: val_loss improved from 0.57163 to 0.56976, saving model to /content/weight/weights-27-0.80.hdf5\n",
            "Epoch 28/50\n",
            "375/375 [==============================] - 3s 9ms/step - loss: 0.6851 - accuracy: 0.7576 - val_loss: 0.5680 - val_accuracy: 0.7987\n",
            "\n",
            "Epoch 00028: val_loss improved from 0.56976 to 0.56798, saving model to /content/weight/weights-28-0.80.hdf5\n",
            "Epoch 29/50\n",
            "375/375 [==============================] - 3s 8ms/step - loss: 0.6836 - accuracy: 0.7579 - val_loss: 0.5660 - val_accuracy: 0.7998\n",
            "\n",
            "Epoch 00029: val_loss improved from 0.56798 to 0.56603, saving model to /content/weight/weights-29-0.80.hdf5\n",
            "Epoch 30/50\n",
            "375/375 [==============================] - 3s 9ms/step - loss: 0.6831 - accuracy: 0.7582 - val_loss: 0.5643 - val_accuracy: 0.8008\n",
            "\n",
            "Epoch 00030: val_loss improved from 0.56603 to 0.56433, saving model to /content/weight/weights-30-0.80.hdf5\n",
            "Epoch 31/50\n",
            "375/375 [==============================] - 3s 9ms/step - loss: 0.6798 - accuracy: 0.7575 - val_loss: 0.5631 - val_accuracy: 0.8008\n",
            "\n",
            "Epoch 00031: val_loss improved from 0.56433 to 0.56311, saving model to /content/weight/weights-31-0.80.hdf5\n",
            "Epoch 32/50\n",
            "375/375 [==============================] - 3s 8ms/step - loss: 0.6785 - accuracy: 0.7582 - val_loss: 0.5612 - val_accuracy: 0.8024\n",
            "\n",
            "Epoch 00032: val_loss improved from 0.56311 to 0.56118, saving model to /content/weight/weights-32-0.80.hdf5\n",
            "Epoch 33/50\n",
            "375/375 [==============================] - 3s 9ms/step - loss: 0.6721 - accuracy: 0.7612 - val_loss: 0.5595 - val_accuracy: 0.8023\n",
            "\n",
            "Epoch 00033: val_loss improved from 0.56118 to 0.55952, saving model to /content/weight/weights-33-0.80.hdf5\n",
            "Epoch 34/50\n",
            "375/375 [==============================] - 3s 8ms/step - loss: 0.6750 - accuracy: 0.7594 - val_loss: 0.5579 - val_accuracy: 0.8018\n",
            "\n",
            "Epoch 00034: val_loss improved from 0.55952 to 0.55794, saving model to /content/weight/weights-34-0.80.hdf5\n",
            "Epoch 35/50\n",
            "375/375 [==============================] - 3s 9ms/step - loss: 0.6736 - accuracy: 0.7618 - val_loss: 0.5562 - val_accuracy: 0.8025\n",
            "\n",
            "Epoch 00035: val_loss improved from 0.55794 to 0.55621, saving model to /content/weight/weights-35-0.80.hdf5\n",
            "Epoch 36/50\n",
            "375/375 [==============================] - 3s 8ms/step - loss: 0.6713 - accuracy: 0.7613 - val_loss: 0.5548 - val_accuracy: 0.8033\n",
            "\n",
            "Epoch 00036: val_loss improved from 0.55621 to 0.55483, saving model to /content/weight/weights-36-0.80.hdf5\n",
            "Epoch 37/50\n",
            "375/375 [==============================] - 3s 8ms/step - loss: 0.6694 - accuracy: 0.7613 - val_loss: 0.5531 - val_accuracy: 0.8037\n",
            "\n",
            "Epoch 00037: val_loss improved from 0.55483 to 0.55310, saving model to /content/weight/weights-37-0.80.hdf5\n",
            "Epoch 38/50\n",
            "375/375 [==============================] - 3s 9ms/step - loss: 0.6673 - accuracy: 0.7615 - val_loss: 0.5515 - val_accuracy: 0.8041\n",
            "\n",
            "Epoch 00038: val_loss improved from 0.55310 to 0.55151, saving model to /content/weight/weights-38-0.80.hdf5\n",
            "Epoch 39/50\n",
            "375/375 [==============================] - 3s 9ms/step - loss: 0.6623 - accuracy: 0.7633 - val_loss: 0.5499 - val_accuracy: 0.8045\n",
            "\n",
            "Epoch 00039: val_loss improved from 0.55151 to 0.54989, saving model to /content/weight/weights-39-0.80.hdf5\n",
            "Epoch 40/50\n",
            "375/375 [==============================] - 3s 9ms/step - loss: 0.6643 - accuracy: 0.7648 - val_loss: 0.5488 - val_accuracy: 0.8059\n",
            "\n",
            "Epoch 00040: val_loss improved from 0.54989 to 0.54884, saving model to /content/weight/weights-40-0.81.hdf5\n",
            "Epoch 41/50\n",
            "375/375 [==============================] - 3s 9ms/step - loss: 0.6616 - accuracy: 0.7641 - val_loss: 0.5472 - val_accuracy: 0.8062\n",
            "\n",
            "Epoch 00041: val_loss improved from 0.54884 to 0.54717, saving model to /content/weight/weights-41-0.81.hdf5\n",
            "Epoch 42/50\n",
            "375/375 [==============================] - 3s 9ms/step - loss: 0.6558 - accuracy: 0.7659 - val_loss: 0.5453 - val_accuracy: 0.8067\n",
            "\n",
            "Epoch 00042: val_loss improved from 0.54717 to 0.54528, saving model to /content/weight/weights-42-0.81.hdf5\n",
            "Epoch 43/50\n",
            "375/375 [==============================] - 3s 9ms/step - loss: 0.6555 - accuracy: 0.7680 - val_loss: 0.5441 - val_accuracy: 0.8069\n",
            "\n",
            "Epoch 00043: val_loss improved from 0.54528 to 0.54406, saving model to /content/weight/weights-43-0.81.hdf5\n",
            "Epoch 44/50\n",
            "375/375 [==============================] - 3s 8ms/step - loss: 0.6519 - accuracy: 0.7671 - val_loss: 0.5424 - val_accuracy: 0.8083\n",
            "\n",
            "Epoch 00044: val_loss improved from 0.54406 to 0.54236, saving model to /content/weight/weights-44-0.81.hdf5\n",
            "Epoch 45/50\n",
            "375/375 [==============================] - 3s 9ms/step - loss: 0.6484 - accuracy: 0.7680 - val_loss: 0.5411 - val_accuracy: 0.8087\n",
            "\n",
            "Epoch 00045: val_loss improved from 0.54236 to 0.54110, saving model to /content/weight/weights-45-0.81.hdf5\n",
            "Epoch 46/50\n",
            "375/375 [==============================] - 3s 9ms/step - loss: 0.6476 - accuracy: 0.7697 - val_loss: 0.5395 - val_accuracy: 0.8087\n",
            "\n",
            "Epoch 00046: val_loss improved from 0.54110 to 0.53945, saving model to /content/weight/weights-46-0.81.hdf5\n",
            "Epoch 47/50\n",
            "375/375 [==============================] - 3s 9ms/step - loss: 0.6464 - accuracy: 0.7692 - val_loss: 0.5381 - val_accuracy: 0.8092\n",
            "\n",
            "Epoch 00047: val_loss improved from 0.53945 to 0.53809, saving model to /content/weight/weights-47-0.81.hdf5\n",
            "Epoch 48/50\n",
            "375/375 [==============================] - 3s 9ms/step - loss: 0.6457 - accuracy: 0.7676 - val_loss: 0.5370 - val_accuracy: 0.8092\n",
            "\n",
            "Epoch 00048: val_loss improved from 0.53809 to 0.53702, saving model to /content/weight/weights-48-0.81.hdf5\n",
            "Epoch 49/50\n",
            "375/375 [==============================] - 3s 8ms/step - loss: 0.6456 - accuracy: 0.7702 - val_loss: 0.5358 - val_accuracy: 0.8105\n",
            "\n",
            "Epoch 00049: val_loss improved from 0.53702 to 0.53583, saving model to /content/weight/weights-49-0.81.hdf5\n",
            "Epoch 50/50\n",
            "375/375 [==============================] - 3s 9ms/step - loss: 0.6445 - accuracy: 0.7697 - val_loss: 0.5347 - val_accuracy: 0.8101\n",
            "\n",
            "Epoch 00050: val_loss improved from 0.53583 to 0.53471, saving model to /content/weight/weights-50-0.81.hdf5\n"
          ],
          "name": "stdout"
        }
      ]
    }
  ]
}